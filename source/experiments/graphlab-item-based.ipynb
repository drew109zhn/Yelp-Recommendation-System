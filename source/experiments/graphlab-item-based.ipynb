{
 "cells": [
  {
   "cell_type": "markdown",
   "metadata": {},
   "source": [
    "# Using graphlab to generate recommendations"
   ]
  },
  {
   "cell_type": "code",
   "execution_count": 2,
   "metadata": {
    "collapsed": false
   },
   "outputs": [],
   "source": [
    "from __future__ import (absolute_import, division, print_function, unicode_literals)                                \n",
    "import random\n",
    "import graphlab\n",
    "import pandas as pd\n",
    "\n",
    "TRAIN_SET_PATH = '../output/trainData.csv'\n",
    "TEST_SET_PATH = '../output/testData.csv'\n",
    "USER_LIST = ['CxDOIDnH8gp9KXzpBHJYXw']\n",
    "potentials = None"
   ]
  },
  {
   "cell_type": "code",
   "execution_count": 3,
   "metadata": {
    "collapsed": false,
    "scrolled": true
   },
   "outputs": [
    {
     "name": "stdout",
     "output_type": "stream",
     "text": [
      "This non-commercial license of GraphLab Create for academic use is assigned to dtran@colgate.edu and will expire on May 02, 2018.\n"
     ]
    },
    {
     "name": "stderr",
     "output_type": "stream",
     "text": [
      "[INFO] graphlab.cython.cy_server: GraphLab Create v2.1 started. Logging: /tmp/graphlab_server_1494115999.log\n"
     ]
    },
    {
     "data": {
      "text/html": [
       "<pre>Recsys training: model = item_similarity</pre>"
      ],
      "text/plain": [
       "Recsys training: model = item_similarity"
      ]
     },
     "metadata": {},
     "output_type": "display_data"
    },
    {
     "data": {
      "text/html": [
       "<pre>Preparing data set.</pre>"
      ],
      "text/plain": [
       "Preparing data set."
      ]
     },
     "metadata": {},
     "output_type": "display_data"
    },
    {
     "data": {
      "text/html": [
       "<pre>    Data has 4152151 observations with 1029432 users and 144072 items.</pre>"
      ],
      "text/plain": [
       "    Data has 4152151 observations with 1029432 users and 144072 items."
      ]
     },
     "metadata": {},
     "output_type": "display_data"
    },
    {
     "data": {
      "text/html": [
       "<pre>    Data prepared in: 12.0877s</pre>"
      ],
      "text/plain": [
       "    Data prepared in: 12.0877s"
      ]
     },
     "metadata": {},
     "output_type": "display_data"
    },
    {
     "data": {
      "text/html": [
       "<pre>Training model from provided data.</pre>"
      ],
      "text/plain": [
       "Training model from provided data."
      ]
     },
     "metadata": {},
     "output_type": "display_data"
    },
    {
     "data": {
      "text/html": [
       "<pre>Gathering per-item and per-user statistics.</pre>"
      ],
      "text/plain": [
       "Gathering per-item and per-user statistics."
      ]
     },
     "metadata": {},
     "output_type": "display_data"
    },
    {
     "data": {
      "text/html": [
       "<pre>+--------------------------------+------------+</pre>"
      ],
      "text/plain": [
       "+--------------------------------+------------+"
      ]
     },
     "metadata": {},
     "output_type": "display_data"
    },
    {
     "data": {
      "text/html": [
       "<pre>| Elapsed Time (Item Statistics) | % Complete |</pre>"
      ],
      "text/plain": [
       "| Elapsed Time (Item Statistics) | % Complete |"
      ]
     },
     "metadata": {},
     "output_type": "display_data"
    },
    {
     "data": {
      "text/html": [
       "<pre>+--------------------------------+------------+</pre>"
      ],
      "text/plain": [
       "+--------------------------------+------------+"
      ]
     },
     "metadata": {},
     "output_type": "display_data"
    },
    {
     "data": {
      "text/html": [
       "<pre>| 44.357ms                       | 0          |</pre>"
      ],
      "text/plain": [
       "| 44.357ms                       | 0          |"
      ]
     },
     "metadata": {},
     "output_type": "display_data"
    },
    {
     "data": {
      "text/html": [
       "<pre>| 1.04s                          | 82.75      |</pre>"
      ],
      "text/plain": [
       "| 1.04s                          | 82.75      |"
      ]
     },
     "metadata": {},
     "output_type": "display_data"
    },
    {
     "data": {
      "text/html": [
       "<pre>| 1.10s                          | 100        |</pre>"
      ],
      "text/plain": [
       "| 1.10s                          | 100        |"
      ]
     },
     "metadata": {},
     "output_type": "display_data"
    },
    {
     "data": {
      "text/html": [
       "<pre>+--------------------------------+------------+</pre>"
      ],
      "text/plain": [
       "+--------------------------------+------------+"
      ]
     },
     "metadata": {},
     "output_type": "display_data"
    },
    {
     "data": {
      "text/html": [
       "<pre>Setting up lookup tables.</pre>"
      ],
      "text/plain": [
       "Setting up lookup tables."
      ]
     },
     "metadata": {},
     "output_type": "display_data"
    },
    {
     "data": {
      "text/html": [
       "<pre>Processing data in one pass using sparse lookup tables.</pre>"
      ],
      "text/plain": [
       "Processing data in one pass using sparse lookup tables."
      ]
     },
     "metadata": {},
     "output_type": "display_data"
    },
    {
     "data": {
      "text/html": [
       "<pre>+-------------------------------------+------------------+-----------------+</pre>"
      ],
      "text/plain": [
       "+-------------------------------------+------------------+-----------------+"
      ]
     },
     "metadata": {},
     "output_type": "display_data"
    },
    {
     "data": {
      "text/html": [
       "<pre>| Elapsed Time (Constructing Lookups) | Total % Complete | Items Processed |</pre>"
      ],
      "text/plain": [
       "| Elapsed Time (Constructing Lookups) | Total % Complete | Items Processed |"
      ]
     },
     "metadata": {},
     "output_type": "display_data"
    },
    {
     "data": {
      "text/html": [
       "<pre>+-------------------------------------+------------------+-----------------+</pre>"
      ],
      "text/plain": [
       "+-------------------------------------+------------------+-----------------+"
      ]
     },
     "metadata": {},
     "output_type": "display_data"
    },
    {
     "data": {
      "text/html": [
       "<pre>| 4.90s                               | 0                | 0               |</pre>"
      ],
      "text/plain": [
       "| 4.90s                               | 0                | 0               |"
      ]
     },
     "metadata": {},
     "output_type": "display_data"
    },
    {
     "data": {
      "text/html": [
       "<pre>| 5.99s                               | 4.5              | 6657            |</pre>"
      ],
      "text/plain": [
       "| 5.99s                               | 4.5              | 6657            |"
      ]
     },
     "metadata": {},
     "output_type": "display_data"
    },
    {
     "data": {
      "text/html": [
       "<pre>| 6.94s                               | 8.25             | 12220           |</pre>"
      ],
      "text/plain": [
       "| 6.94s                               | 8.25             | 12220           |"
      ]
     },
     "metadata": {},
     "output_type": "display_data"
    },
    {
     "data": {
      "text/html": [
       "<pre>| 7.91s                               | 11.5             | 16729           |</pre>"
      ],
      "text/plain": [
       "| 7.91s                               | 11.5             | 16729           |"
      ]
     },
     "metadata": {},
     "output_type": "display_data"
    },
    {
     "data": {
      "text/html": [
       "<pre>| 8.90s                               | 15.5             | 22650           |</pre>"
      ],
      "text/plain": [
       "| 8.90s                               | 15.5             | 22650           |"
      ]
     },
     "metadata": {},
     "output_type": "display_data"
    },
    {
     "data": {
      "text/html": [
       "<pre>| 10.31s                              | 17.5             | 25451           |</pre>"
      ],
      "text/plain": [
       "| 10.31s                              | 17.5             | 25451           |"
      ]
     },
     "metadata": {},
     "output_type": "display_data"
    },
    {
     "data": {
      "text/html": [
       "<pre>| 11.39s                              | 18.75            | 27162           |</pre>"
      ],
      "text/plain": [
       "| 11.39s                              | 18.75            | 27162           |"
      ]
     },
     "metadata": {},
     "output_type": "display_data"
    },
    {
     "data": {
      "text/html": [
       "<pre>| 11.95s                              | 20               | 29128           |</pre>"
      ],
      "text/plain": [
       "| 11.95s                              | 20               | 29128           |"
      ]
     },
     "metadata": {},
     "output_type": "display_data"
    },
    {
     "data": {
      "text/html": [
       "<pre>| 13.02s                              | 23.75            | 34248           |</pre>"
      ],
      "text/plain": [
       "| 13.02s                              | 23.75            | 34248           |"
      ]
     },
     "metadata": {},
     "output_type": "display_data"
    },
    {
     "data": {
      "text/html": [
       "<pre>| 13.91s                              | 26.75            | 38760           |</pre>"
      ],
      "text/plain": [
       "| 13.91s                              | 26.75            | 38760           |"
      ]
     },
     "metadata": {},
     "output_type": "display_data"
    },
    {
     "data": {
      "text/html": [
       "<pre>| 14.93s                              | 30.25            | 43868           |</pre>"
      ],
      "text/plain": [
       "| 14.93s                              | 30.25            | 43868           |"
      ]
     },
     "metadata": {},
     "output_type": "display_data"
    },
    {
     "data": {
      "text/html": [
       "<pre>| 16.01s                              | 34               | 49047           |</pre>"
      ],
      "text/plain": [
       "| 16.01s                              | 34               | 49047           |"
      ]
     },
     "metadata": {},
     "output_type": "display_data"
    },
    {
     "data": {
      "text/html": [
       "<pre>| 16.93s                              | 35.75            | 51718           |</pre>"
      ],
      "text/plain": [
       "| 16.93s                              | 35.75            | 51718           |"
      ]
     },
     "metadata": {},
     "output_type": "display_data"
    },
    {
     "data": {
      "text/html": [
       "<pre>| 17.91s                              | 37.25            | 53940           |</pre>"
      ],
      "text/plain": [
       "| 17.91s                              | 37.25            | 53940           |"
      ]
     },
     "metadata": {},
     "output_type": "display_data"
    },
    {
     "data": {
      "text/html": [
       "<pre>| 19.13s                              | 38.5             | 55520           |</pre>"
      ],
      "text/plain": [
       "| 19.13s                              | 38.5             | 55520           |"
      ]
     },
     "metadata": {},
     "output_type": "display_data"
    },
    {
     "data": {
      "text/html": [
       "<pre>| 19.98s                              | 39.5             | 57221           |</pre>"
      ],
      "text/plain": [
       "| 19.98s                              | 39.5             | 57221           |"
      ]
     },
     "metadata": {},
     "output_type": "display_data"
    },
    {
     "data": {
      "text/html": [
       "<pre>| 20.96s                              | 40               | 57988           |</pre>"
      ],
      "text/plain": [
       "| 20.96s                              | 40               | 57988           |"
      ]
     },
     "metadata": {},
     "output_type": "display_data"
    },
    {
     "data": {
      "text/html": [
       "<pre>| 21.92s                              | 40.5             | 58407           |</pre>"
      ],
      "text/plain": [
       "| 21.92s                              | 40.5             | 58407           |"
      ]
     },
     "metadata": {},
     "output_type": "display_data"
    },
    {
     "data": {
      "text/html": [
       "<pre>| 22.93s                              | 40.5             | 58696           |</pre>"
      ],
      "text/plain": [
       "| 22.93s                              | 40.5             | 58696           |"
      ]
     },
     "metadata": {},
     "output_type": "display_data"
    },
    {
     "data": {
      "text/html": [
       "<pre>| 24.25s                              | 40.75            | 59007           |</pre>"
      ],
      "text/plain": [
       "| 24.25s                              | 40.75            | 59007           |"
      ]
     },
     "metadata": {},
     "output_type": "display_data"
    },
    {
     "data": {
      "text/html": [
       "<pre>| 24.93s                              | 41               | 59131           |</pre>"
      ],
      "text/plain": [
       "| 24.93s                              | 41               | 59131           |"
      ]
     },
     "metadata": {},
     "output_type": "display_data"
    },
    {
     "data": {
      "text/html": [
       "<pre>| 26.83s                              | 41.25            | 59466           |</pre>"
      ],
      "text/plain": [
       "| 26.83s                              | 41.25            | 59466           |"
      ]
     },
     "metadata": {},
     "output_type": "display_data"
    },
    {
     "data": {
      "text/html": [
       "<pre>| 26.94s                              | 41.25            | 59483           |</pre>"
      ],
      "text/plain": [
       "| 26.94s                              | 41.25            | 59483           |"
      ]
     },
     "metadata": {},
     "output_type": "display_data"
    },
    {
     "data": {
      "text/html": [
       "<pre>| 28.55s                              | 41.25            | 59733           |</pre>"
      ],
      "text/plain": [
       "| 28.55s                              | 41.25            | 59733           |"
      ]
     },
     "metadata": {},
     "output_type": "display_data"
    },
    {
     "data": {
      "text/html": [
       "<pre>| 29.01s                              | 41.5             | 59801           |</pre>"
      ],
      "text/plain": [
       "| 29.01s                              | 41.5             | 59801           |"
      ]
     },
     "metadata": {},
     "output_type": "display_data"
    },
    {
     "data": {
      "text/html": [
       "<pre>| 29.97s                              | 41.5             | 59951           |</pre>"
      ],
      "text/plain": [
       "| 29.97s                              | 41.5             | 59951           |"
      ]
     },
     "metadata": {},
     "output_type": "display_data"
    },
    {
     "data": {
      "text/html": [
       "<pre>| 31.28s                              | 41.5             | 60149           |</pre>"
      ],
      "text/plain": [
       "| 31.28s                              | 41.5             | 60149           |"
      ]
     },
     "metadata": {},
     "output_type": "display_data"
    },
    {
     "data": {
      "text/html": [
       "<pre>| 32.04s                              | 41.75            | 60254           |</pre>"
      ],
      "text/plain": [
       "| 32.04s                              | 41.75            | 60254           |"
      ]
     },
     "metadata": {},
     "output_type": "display_data"
    },
    {
     "data": {
      "text/html": [
       "<pre>| 32.93s                              | 41.75            | 60362           |</pre>"
      ],
      "text/plain": [
       "| 32.93s                              | 41.75            | 60362           |"
      ]
     },
     "metadata": {},
     "output_type": "display_data"
    },
    {
     "data": {
      "text/html": [
       "<pre>| 33.99s                              | 41.75            | 60484           |</pre>"
      ],
      "text/plain": [
       "| 33.99s                              | 41.75            | 60484           |"
      ]
     },
     "metadata": {},
     "output_type": "display_data"
    },
    {
     "data": {
      "text/html": [
       "<pre>| 35.88s                              | 42               | 60562           |</pre>"
      ],
      "text/plain": [
       "| 35.88s                              | 42               | 60562           |"
      ]
     },
     "metadata": {},
     "output_type": "display_data"
    },
    {
     "data": {
      "text/html": [
       "<pre>| 36.04s                              | 42               | 60581           |</pre>"
      ],
      "text/plain": [
       "| 36.04s                              | 42               | 60581           |"
      ]
     },
     "metadata": {},
     "output_type": "display_data"
    },
    {
     "data": {
      "text/html": [
       "<pre>| 36.99s                              | 42               | 60700           |</pre>"
      ],
      "text/plain": [
       "| 36.99s                              | 42               | 60700           |"
      ]
     },
     "metadata": {},
     "output_type": "display_data"
    },
    {
     "data": {
      "text/html": [
       "<pre>| 37.95s                              | 42               | 60800           |</pre>"
      ],
      "text/plain": [
       "| 37.95s                              | 42               | 60800           |"
      ]
     },
     "metadata": {},
     "output_type": "display_data"
    },
    {
     "data": {
      "text/html": [
       "<pre>| 39.50s                              | 42.25            | 61002           |</pre>"
      ],
      "text/plain": [
       "| 39.50s                              | 42.25            | 61002           |"
      ]
     },
     "metadata": {},
     "output_type": "display_data"
    },
    {
     "data": {
      "text/html": [
       "<pre>| 40.47s                              | 42.25            | 61126           |</pre>"
      ],
      "text/plain": [
       "| 40.47s                              | 42.25            | 61126           |"
      ]
     },
     "metadata": {},
     "output_type": "display_data"
    },
    {
     "data": {
      "text/html": [
       "<pre>| 41.13s                              | 42.25            | 61215           |</pre>"
      ],
      "text/plain": [
       "| 41.13s                              | 42.25            | 61215           |"
      ]
     },
     "metadata": {},
     "output_type": "display_data"
    },
    {
     "data": {
      "text/html": [
       "<pre>| 42.66s                              | 42.5             | 61393           |</pre>"
      ],
      "text/plain": [
       "| 42.66s                              | 42.5             | 61393           |"
      ]
     },
     "metadata": {},
     "output_type": "display_data"
    },
    {
     "data": {
      "text/html": [
       "<pre>| 45.53s                              | 42.75            | 61747           |</pre>"
      ],
      "text/plain": [
       "| 45.53s                              | 42.75            | 61747           |"
      ]
     },
     "metadata": {},
     "output_type": "display_data"
    },
    {
     "data": {
      "text/html": [
       "<pre>| 46.59s                              | 42.75            | 61857           |</pre>"
      ],
      "text/plain": [
       "| 46.59s                              | 42.75            | 61857           |"
      ]
     },
     "metadata": {},
     "output_type": "display_data"
    },
    {
     "data": {
      "text/html": [
       "<pre>| 47.61s                              | 43               | 61990           |</pre>"
      ],
      "text/plain": [
       "| 47.61s                              | 43               | 61990           |"
      ]
     },
     "metadata": {},
     "output_type": "display_data"
    },
    {
     "data": {
      "text/html": [
       "<pre>| 48.53s                              | 43               | 62091           |</pre>"
      ],
      "text/plain": [
       "| 48.53s                              | 43               | 62091           |"
      ]
     },
     "metadata": {},
     "output_type": "display_data"
    },
    {
     "data": {
      "text/html": [
       "<pre>| 49.59s                              | 43               | 62283           |</pre>"
      ],
      "text/plain": [
       "| 49.59s                              | 43               | 62283           |"
      ]
     },
     "metadata": {},
     "output_type": "display_data"
    },
    {
     "data": {
      "text/html": [
       "<pre>| 50.59s                              | 43               | 62283           |</pre>"
      ],
      "text/plain": [
       "| 50.59s                              | 43               | 62283           |"
      ]
     },
     "metadata": {},
     "output_type": "display_data"
    },
    {
     "data": {
      "text/html": [
       "<pre>| 51.57s                              | 43.25            | 62393           |</pre>"
      ],
      "text/plain": [
       "| 51.57s                              | 43.25            | 62393           |"
      ]
     },
     "metadata": {},
     "output_type": "display_data"
    },
    {
     "data": {
      "text/html": [
       "<pre>| 52.94s                              | 43.25            | 62510           |</pre>"
      ],
      "text/plain": [
       "| 52.94s                              | 43.25            | 62510           |"
      ]
     },
     "metadata": {},
     "output_type": "display_data"
    },
    {
     "data": {
      "text/html": [
       "<pre>| 55.12s                              | 43.5             | 62674           |</pre>"
      ],
      "text/plain": [
       "| 55.12s                              | 43.5             | 62674           |"
      ]
     },
     "metadata": {},
     "output_type": "display_data"
    },
    {
     "data": {
      "text/html": [
       "<pre>| 56.13s                              | 43.5             | 62789           |</pre>"
      ],
      "text/plain": [
       "| 56.13s                              | 43.5             | 62789           |"
      ]
     },
     "metadata": {},
     "output_type": "display_data"
    },
    {
     "data": {
      "text/html": [
       "<pre>| 57.67s                              | 43.5             | 62952           |</pre>"
      ],
      "text/plain": [
       "| 57.67s                              | 43.5             | 62952           |"
      ]
     },
     "metadata": {},
     "output_type": "display_data"
    },
    {
     "data": {
      "text/html": [
       "<pre>| 59.28s                              | 43.75            | 63141           |</pre>"
      ],
      "text/plain": [
       "| 59.28s                              | 43.75            | 63141           |"
      ]
     },
     "metadata": {},
     "output_type": "display_data"
    },
    {
     "data": {
      "text/html": [
       "<pre>| 1m 0s                               | 43.75            | 63215           |</pre>"
      ],
      "text/plain": [
       "| 1m 0s                               | 43.75            | 63215           |"
      ]
     },
     "metadata": {},
     "output_type": "display_data"
    },
    {
     "data": {
      "text/html": [
       "<pre>| 1m 1s                               | 43.75            | 63291           |</pre>"
      ],
      "text/plain": [
       "| 1m 1s                               | 43.75            | 63291           |"
      ]
     },
     "metadata": {},
     "output_type": "display_data"
    },
    {
     "data": {
      "text/html": [
       "<pre>| 1m 2s                               | 43.75            | 63370           |</pre>"
      ],
      "text/plain": [
       "| 1m 2s                               | 43.75            | 63370           |"
      ]
     },
     "metadata": {},
     "output_type": "display_data"
    },
    {
     "data": {
      "text/html": [
       "<pre>| 1m 3s                               | 44               | 63438           |</pre>"
      ],
      "text/plain": [
       "| 1m 3s                               | 44               | 63438           |"
      ]
     },
     "metadata": {},
     "output_type": "display_data"
    },
    {
     "data": {
      "text/html": [
       "<pre>| 1m 4s                               | 44               | 63523           |</pre>"
      ],
      "text/plain": [
       "| 1m 4s                               | 44               | 63523           |"
      ]
     },
     "metadata": {},
     "output_type": "display_data"
    },
    {
     "data": {
      "text/html": [
       "<pre>| 1m 5s                               | 44               | 63620           |</pre>"
      ],
      "text/plain": [
       "| 1m 5s                               | 44               | 63620           |"
      ]
     },
     "metadata": {},
     "output_type": "display_data"
    },
    {
     "data": {
      "text/html": [
       "<pre>| 1m 7s                               | 44.25            | 63801           |</pre>"
      ],
      "text/plain": [
       "| 1m 7s                               | 44.25            | 63801           |"
      ]
     },
     "metadata": {},
     "output_type": "display_data"
    },
    {
     "data": {
      "text/html": [
       "<pre>| 1m 7s                               | 44.25            | 63871           |</pre>"
      ],
      "text/plain": [
       "| 1m 7s                               | 44.25            | 63871           |"
      ]
     },
     "metadata": {},
     "output_type": "display_data"
    },
    {
     "data": {
      "text/html": [
       "<pre>| 1m 8s                               | 44.25            | 63927           |</pre>"
      ],
      "text/plain": [
       "| 1m 8s                               | 44.25            | 63927           |"
      ]
     },
     "metadata": {},
     "output_type": "display_data"
    },
    {
     "data": {
      "text/html": [
       "<pre>| 1m 9s                               | 44.25            | 63979           |</pre>"
      ],
      "text/plain": [
       "| 1m 9s                               | 44.25            | 63979           |"
      ]
     },
     "metadata": {},
     "output_type": "display_data"
    },
    {
     "data": {
      "text/html": [
       "<pre>| 1m 10s                              | 44.25            | 64057           |</pre>"
      ],
      "text/plain": [
       "| 1m 10s                              | 44.25            | 64057           |"
      ]
     },
     "metadata": {},
     "output_type": "display_data"
    },
    {
     "data": {
      "text/html": [
       "<pre>| 1m 11s                              | 44.5             | 64184           |</pre>"
      ],
      "text/plain": [
       "| 1m 11s                              | 44.5             | 64184           |"
      ]
     },
     "metadata": {},
     "output_type": "display_data"
    },
    {
     "data": {
      "text/html": [
       "<pre>| 1m 12s                              | 44.5             | 64237           |</pre>"
      ],
      "text/plain": [
       "| 1m 12s                              | 44.5             | 64237           |"
      ]
     },
     "metadata": {},
     "output_type": "display_data"
    },
    {
     "data": {
      "text/html": [
       "<pre>| 1m 15s                              | 44.75            | 64501           |</pre>"
      ],
      "text/plain": [
       "| 1m 15s                              | 44.75            | 64501           |"
      ]
     },
     "metadata": {},
     "output_type": "display_data"
    },
    {
     "data": {
      "text/html": [
       "<pre>| 1m 16s                              | 44.75            | 64583           |</pre>"
      ],
      "text/plain": [
       "| 1m 16s                              | 44.75            | 64583           |"
      ]
     },
     "metadata": {},
     "output_type": "display_data"
    },
    {
     "data": {
      "text/html": [
       "<pre>| 1m 17s                              | 44.75            | 64698           |</pre>"
      ],
      "text/plain": [
       "| 1m 17s                              | 44.75            | 64698           |"
      ]
     },
     "metadata": {},
     "output_type": "display_data"
    },
    {
     "data": {
      "text/html": [
       "<pre>| 1m 18s                              | 44.75            | 64771           |</pre>"
      ],
      "text/plain": [
       "| 1m 18s                              | 44.75            | 64771           |"
      ]
     },
     "metadata": {},
     "output_type": "display_data"
    },
    {
     "data": {
      "text/html": [
       "<pre>| 1m 30s                              | 45.5             | 65908           |</pre>"
      ],
      "text/plain": [
       "| 1m 30s                              | 45.5             | 65908           |"
      ]
     },
     "metadata": {},
     "output_type": "display_data"
    },
    {
     "data": {
      "text/html": [
       "<pre>| 1m 31s                              | 45.75            | 66006           |</pre>"
      ],
      "text/plain": [
       "| 1m 31s                              | 45.75            | 66006           |"
      ]
     },
     "metadata": {},
     "output_type": "display_data"
    },
    {
     "data": {
      "text/html": [
       "<pre>| 1m 32s                              | 45.75            | 66085           |</pre>"
      ],
      "text/plain": [
       "| 1m 32s                              | 45.75            | 66085           |"
      ]
     },
     "metadata": {},
     "output_type": "display_data"
    },
    {
     "data": {
      "text/html": [
       "<pre>| 1m 34s                              | 46               | 66274           |</pre>"
      ],
      "text/plain": [
       "| 1m 34s                              | 46               | 66274           |"
      ]
     },
     "metadata": {},
     "output_type": "display_data"
    },
    {
     "data": {
      "text/html": [
       "<pre>| 1m 34s                              | 46               | 66274           |</pre>"
      ],
      "text/plain": [
       "| 1m 34s                              | 46               | 66274           |"
      ]
     },
     "metadata": {},
     "output_type": "display_data"
    },
    {
     "data": {
      "text/html": [
       "<pre>| 1m 36s                              | 46               | 66349           |</pre>"
      ],
      "text/plain": [
       "| 1m 36s                              | 46               | 66349           |"
      ]
     },
     "metadata": {},
     "output_type": "display_data"
    },
    {
     "data": {
      "text/html": [
       "<pre>| 1m 36s                              | 46               | 66439           |</pre>"
      ],
      "text/plain": [
       "| 1m 36s                              | 46               | 66439           |"
      ]
     },
     "metadata": {},
     "output_type": "display_data"
    },
    {
     "data": {
      "text/html": [
       "<pre>| 1m 39s                              | 46.25            | 66683           |</pre>"
      ],
      "text/plain": [
       "| 1m 39s                              | 46.25            | 66683           |"
      ]
     },
     "metadata": {},
     "output_type": "display_data"
    },
    {
     "data": {
      "text/html": [
       "<pre>| 1m 40s                              | 46.25            | 66760           |</pre>"
      ],
      "text/plain": [
       "| 1m 40s                              | 46.25            | 66760           |"
      ]
     },
     "metadata": {},
     "output_type": "display_data"
    },
    {
     "data": {
      "text/html": [
       "<pre>| 1m 41s                              | 46.25            | 66851           |</pre>"
      ],
      "text/plain": [
       "| 1m 41s                              | 46.25            | 66851           |"
      ]
     },
     "metadata": {},
     "output_type": "display_data"
    },
    {
     "data": {
      "text/html": [
       "<pre>| 1m 44s                              | 46.5             | 67057           |</pre>"
      ],
      "text/plain": [
       "| 1m 44s                              | 46.5             | 67057           |"
      ]
     },
     "metadata": {},
     "output_type": "display_data"
    },
    {
     "data": {
      "text/html": [
       "<pre>| 1m 47s                              | 46.75            | 67362           |</pre>"
      ],
      "text/plain": [
       "| 1m 47s                              | 46.75            | 67362           |"
      ]
     },
     "metadata": {},
     "output_type": "display_data"
    },
    {
     "data": {
      "text/html": [
       "<pre>| 1m 50s                              | 46.75            | 67627           |</pre>"
      ],
      "text/plain": [
       "| 1m 50s                              | 46.75            | 67627           |"
      ]
     },
     "metadata": {},
     "output_type": "display_data"
    },
    {
     "data": {
      "text/html": [
       "<pre>| 1m 51s                              | 46.75            | 67704           |</pre>"
      ],
      "text/plain": [
       "| 1m 51s                              | 46.75            | 67704           |"
      ]
     },
     "metadata": {},
     "output_type": "display_data"
    },
    {
     "data": {
      "text/html": [
       "<pre>| 1m 52s                              | 47               | 67793           |</pre>"
      ],
      "text/plain": [
       "| 1m 52s                              | 47               | 67793           |"
      ]
     },
     "metadata": {},
     "output_type": "display_data"
    },
    {
     "data": {
      "text/html": [
       "<pre>| 1m 54s                              | 47               | 67913           |</pre>"
      ],
      "text/plain": [
       "| 1m 54s                              | 47               | 67913           |"
      ]
     },
     "metadata": {},
     "output_type": "display_data"
    },
    {
     "data": {
      "text/html": [
       "<pre>| 1m 54s                              | 47               | 67946           |</pre>"
      ],
      "text/plain": [
       "| 1m 54s                              | 47               | 67946           |"
      ]
     },
     "metadata": {},
     "output_type": "display_data"
    },
    {
     "data": {
      "text/html": [
       "<pre>| 1m 56s                              | 47.25            | 68083           |</pre>"
      ],
      "text/plain": [
       "| 1m 56s                              | 47.25            | 68083           |"
      ]
     },
     "metadata": {},
     "output_type": "display_data"
    },
    {
     "data": {
      "text/html": [
       "<pre>| 1m 57s                              | 47.25            | 68123           |</pre>"
      ],
      "text/plain": [
       "| 1m 57s                              | 47.25            | 68123           |"
      ]
     },
     "metadata": {},
     "output_type": "display_data"
    },
    {
     "data": {
      "text/html": [
       "<pre>| 1m 58s                              | 47.25            | 68219           |</pre>"
      ],
      "text/plain": [
       "| 1m 58s                              | 47.25            | 68219           |"
      ]
     },
     "metadata": {},
     "output_type": "display_data"
    },
    {
     "data": {
      "text/html": [
       "<pre>| 1m 58s                              | 47.25            | 68264           |</pre>"
      ],
      "text/plain": [
       "| 1m 58s                              | 47.25            | 68264           |"
      ]
     },
     "metadata": {},
     "output_type": "display_data"
    },
    {
     "data": {
      "text/html": [
       "<pre>| 2m 0s                               | 47.5             | 68436           |</pre>"
      ],
      "text/plain": [
       "| 2m 0s                               | 47.5             | 68436           |"
      ]
     },
     "metadata": {},
     "output_type": "display_data"
    },
    {
     "data": {
      "text/html": [
       "<pre>| 2m 0s                               | 47.5             | 68462           |</pre>"
      ],
      "text/plain": [
       "| 2m 0s                               | 47.5             | 68462           |"
      ]
     },
     "metadata": {},
     "output_type": "display_data"
    },
    {
     "data": {
      "text/html": [
       "<pre>| 2m 2s                               | 47.5             | 68612           |</pre>"
      ],
      "text/plain": [
       "| 2m 2s                               | 47.5             | 68612           |"
      ]
     },
     "metadata": {},
     "output_type": "display_data"
    },
    {
     "data": {
      "text/html": [
       "<pre>| 2m 5s                               | 47.75            | 68842           |</pre>"
      ],
      "text/plain": [
       "| 2m 5s                               | 47.75            | 68842           |"
      ]
     },
     "metadata": {},
     "output_type": "display_data"
    },
    {
     "data": {
      "text/html": [
       "<pre>| 2m 7s                               | 47.75            | 68978           |</pre>"
      ],
      "text/plain": [
       "| 2m 7s                               | 47.75            | 68978           |"
      ]
     },
     "metadata": {},
     "output_type": "display_data"
    },
    {
     "data": {
      "text/html": [
       "<pre>| 2m 7s                               | 47.75            | 69010           |</pre>"
      ],
      "text/plain": [
       "| 2m 7s                               | 47.75            | 69010           |"
      ]
     },
     "metadata": {},
     "output_type": "display_data"
    },
    {
     "data": {
      "text/html": [
       "<pre>| 2m 10s                              | 48               | 69217           |</pre>"
      ],
      "text/plain": [
       "| 2m 10s                              | 48               | 69217           |"
      ]
     },
     "metadata": {},
     "output_type": "display_data"
    },
    {
     "data": {
      "text/html": [
       "<pre>| 2m 11s                              | 48               | 69299           |</pre>"
      ],
      "text/plain": [
       "| 2m 11s                              | 48               | 69299           |"
      ]
     },
     "metadata": {},
     "output_type": "display_data"
    },
    {
     "data": {
      "text/html": [
       "<pre>| 2m 12s                              | 48               | 69442           |</pre>"
      ],
      "text/plain": [
       "| 2m 12s                              | 48               | 69442           |"
      ]
     },
     "metadata": {},
     "output_type": "display_data"
    },
    {
     "data": {
      "text/html": [
       "<pre>| 2m 13s                              | 48               | 69464           |</pre>"
      ],
      "text/plain": [
       "| 2m 13s                              | 48               | 69464           |"
      ]
     },
     "metadata": {},
     "output_type": "display_data"
    },
    {
     "data": {
      "text/html": [
       "<pre>| 2m 14s                              | 48.25            | 69597           |</pre>"
      ],
      "text/plain": [
       "| 2m 14s                              | 48.25            | 69597           |"
      ]
     },
     "metadata": {},
     "output_type": "display_data"
    },
    {
     "data": {
      "text/html": [
       "<pre>| 2m 15s                              | 48.25            | 69634           |</pre>"
      ],
      "text/plain": [
       "| 2m 15s                              | 48.25            | 69634           |"
      ]
     },
     "metadata": {},
     "output_type": "display_data"
    },
    {
     "data": {
      "text/html": [
       "<pre>| 2m 16s                              | 48.25            | 69731           |</pre>"
      ],
      "text/plain": [
       "| 2m 16s                              | 48.25            | 69731           |"
      ]
     },
     "metadata": {},
     "output_type": "display_data"
    },
    {
     "data": {
      "text/html": [
       "<pre>| 2m 17s                              | 48.25            | 69848           |</pre>"
      ],
      "text/plain": [
       "| 2m 17s                              | 48.25            | 69848           |"
      ]
     },
     "metadata": {},
     "output_type": "display_data"
    },
    {
     "data": {
      "text/html": [
       "<pre>| 2m 18s                              | 48.5             | 69931           |</pre>"
      ],
      "text/plain": [
       "| 2m 18s                              | 48.5             | 69931           |"
      ]
     },
     "metadata": {},
     "output_type": "display_data"
    },
    {
     "data": {
      "text/html": [
       "<pre>| 2m 19s                              | 48.5             | 70014           |</pre>"
      ],
      "text/plain": [
       "| 2m 19s                              | 48.5             | 70014           |"
      ]
     },
     "metadata": {},
     "output_type": "display_data"
    },
    {
     "data": {
      "text/html": [
       "<pre>| 2m 20s                              | 48.5             | 70082           |</pre>"
      ],
      "text/plain": [
       "| 2m 20s                              | 48.5             | 70082           |"
      ]
     },
     "metadata": {},
     "output_type": "display_data"
    },
    {
     "data": {
      "text/html": [
       "<pre>| 2m 21s                              | 48.5             | 70156           |</pre>"
      ],
      "text/plain": [
       "| 2m 21s                              | 48.5             | 70156           |"
      ]
     },
     "metadata": {},
     "output_type": "display_data"
    },
    {
     "data": {
      "text/html": [
       "<pre>| 2m 22s                              | 48.5             | 70233           |</pre>"
      ],
      "text/plain": [
       "| 2m 22s                              | 48.5             | 70233           |"
      ]
     },
     "metadata": {},
     "output_type": "display_data"
    },
    {
     "data": {
      "text/html": [
       "<pre>| 2m 23s                              | 48.75            | 70430           |</pre>"
      ],
      "text/plain": [
       "| 2m 23s                              | 48.75            | 70430           |"
      ]
     },
     "metadata": {},
     "output_type": "display_data"
    },
    {
     "data": {
      "text/html": [
       "<pre>| 2m 24s                              | 48.75            | 70461           |</pre>"
      ],
      "text/plain": [
       "| 2m 24s                              | 48.75            | 70461           |"
      ]
     },
     "metadata": {},
     "output_type": "display_data"
    },
    {
     "data": {
      "text/html": [
       "<pre>| 2m 25s                              | 48.75            | 70521           |</pre>"
      ],
      "text/plain": [
       "| 2m 25s                              | 48.75            | 70521           |"
      ]
     },
     "metadata": {},
     "output_type": "display_data"
    },
    {
     "data": {
      "text/html": [
       "<pre>| 2m 26s                              | 49               | 70613           |</pre>"
      ],
      "text/plain": [
       "| 2m 26s                              | 49               | 70613           |"
      ]
     },
     "metadata": {},
     "output_type": "display_data"
    },
    {
     "data": {
      "text/html": [
       "<pre>| 2m 28s                              | 49               | 70783           |</pre>"
      ],
      "text/plain": [
       "| 2m 28s                              | 49               | 70783           |"
      ]
     },
     "metadata": {},
     "output_type": "display_data"
    },
    {
     "data": {
      "text/html": [
       "<pre>| 2m 29s                              | 49               | 70902           |</pre>"
      ],
      "text/plain": [
       "| 2m 29s                              | 49               | 70902           |"
      ]
     },
     "metadata": {},
     "output_type": "display_data"
    },
    {
     "data": {
      "text/html": [
       "<pre>| 2m 30s                              | 49.25            | 70979           |</pre>"
      ],
      "text/plain": [
       "| 2m 30s                              | 49.25            | 70979           |"
      ]
     },
     "metadata": {},
     "output_type": "display_data"
    },
    {
     "data": {
      "text/html": [
       "<pre>| 2m 32s                              | 49.25            | 71148           |</pre>"
      ],
      "text/plain": [
       "| 2m 32s                              | 49.25            | 71148           |"
      ]
     },
     "metadata": {},
     "output_type": "display_data"
    },
    {
     "data": {
      "text/html": [
       "<pre>| 2m 33s                              | 49.25            | 71242           |</pre>"
      ],
      "text/plain": [
       "| 2m 33s                              | 49.25            | 71242           |"
      ]
     },
     "metadata": {},
     "output_type": "display_data"
    },
    {
     "data": {
      "text/html": [
       "<pre>| 2m 34s                              | 49.5             | 71357           |</pre>"
      ],
      "text/plain": [
       "| 2m 34s                              | 49.5             | 71357           |"
      ]
     },
     "metadata": {},
     "output_type": "display_data"
    },
    {
     "data": {
      "text/html": [
       "<pre>| 2m 35s                              | 49.5             | 71435           |</pre>"
      ],
      "text/plain": [
       "| 2m 35s                              | 49.5             | 71435           |"
      ]
     },
     "metadata": {},
     "output_type": "display_data"
    },
    {
     "data": {
      "text/html": [
       "<pre>| 2m 36s                              | 49.5             | 71533           |</pre>"
      ],
      "text/plain": [
       "| 2m 36s                              | 49.5             | 71533           |"
      ]
     },
     "metadata": {},
     "output_type": "display_data"
    },
    {
     "data": {
      "text/html": [
       "<pre>| 2m 37s                              | 49.5             | 71624           |</pre>"
      ],
      "text/plain": [
       "| 2m 37s                              | 49.5             | 71624           |"
      ]
     },
     "metadata": {},
     "output_type": "display_data"
    },
    {
     "data": {
      "text/html": [
       "<pre>| 2m 38s                              | 49.75            | 71720           |</pre>"
      ],
      "text/plain": [
       "| 2m 38s                              | 49.75            | 71720           |"
      ]
     },
     "metadata": {},
     "output_type": "display_data"
    },
    {
     "data": {
      "text/html": [
       "<pre>| 2m 39s                              | 49.75            | 71799           |</pre>"
      ],
      "text/plain": [
       "| 2m 39s                              | 49.75            | 71799           |"
      ]
     },
     "metadata": {},
     "output_type": "display_data"
    },
    {
     "data": {
      "text/html": [
       "<pre>| 2m 41s                              | 49.75            | 71914           |</pre>"
      ],
      "text/plain": [
       "| 2m 41s                              | 49.75            | 71914           |"
      ]
     },
     "metadata": {},
     "output_type": "display_data"
    },
    {
     "data": {
      "text/html": [
       "<pre>| 2m 41s                              | 49.75            | 71940           |</pre>"
      ],
      "text/plain": [
       "| 2m 41s                              | 49.75            | 71940           |"
      ]
     },
     "metadata": {},
     "output_type": "display_data"
    },
    {
     "data": {
      "text/html": [
       "<pre>| 2m 42s                              | 49.75            | 72005           |</pre>"
      ],
      "text/plain": [
       "| 2m 42s                              | 49.75            | 72005           |"
      ]
     },
     "metadata": {},
     "output_type": "display_data"
    },
    {
     "data": {
      "text/html": [
       "<pre>| 2m 43s                              | 50               | 72099           |</pre>"
      ],
      "text/plain": [
       "| 2m 43s                              | 50               | 72099           |"
      ]
     },
     "metadata": {},
     "output_type": "display_data"
    },
    {
     "data": {
      "text/html": [
       "<pre>| 2m 48s                              | 50.25            | 72542           |</pre>"
      ],
      "text/plain": [
       "| 2m 48s                              | 50.25            | 72542           |"
      ]
     },
     "metadata": {},
     "output_type": "display_data"
    },
    {
     "data": {
      "text/html": [
       "<pre>| 2m 55s                              | 50.75            | 73166           |</pre>"
      ],
      "text/plain": [
       "| 2m 55s                              | 50.75            | 73166           |"
      ]
     },
     "metadata": {},
     "output_type": "display_data"
    },
    {
     "data": {
      "text/html": [
       "<pre>| 2m 56s                              | 50.75            | 73303           |</pre>"
      ],
      "text/plain": [
       "| 2m 56s                              | 50.75            | 73303           |"
      ]
     },
     "metadata": {},
     "output_type": "display_data"
    },
    {
     "data": {
      "text/html": [
       "<pre>| 2m 58s                              | 50.75            | 73394           |</pre>"
      ],
      "text/plain": [
       "| 2m 58s                              | 50.75            | 73394           |"
      ]
     },
     "metadata": {},
     "output_type": "display_data"
    },
    {
     "data": {
      "text/html": [
       "<pre>| 2m 58s                              | 50.75            | 73445           |</pre>"
      ],
      "text/plain": [
       "| 2m 58s                              | 50.75            | 73445           |"
      ]
     },
     "metadata": {},
     "output_type": "display_data"
    },
    {
     "data": {
      "text/html": [
       "<pre>| 2m 59s                              | 51               | 73550           |</pre>"
      ],
      "text/plain": [
       "| 2m 59s                              | 51               | 73550           |"
      ]
     },
     "metadata": {},
     "output_type": "display_data"
    },
    {
     "data": {
      "text/html": [
       "<pre>| 3m 0s                               | 51               | 73638           |</pre>"
      ],
      "text/plain": [
       "| 3m 0s                               | 51               | 73638           |"
      ]
     },
     "metadata": {},
     "output_type": "display_data"
    },
    {
     "data": {
      "text/html": [
       "<pre>| 3m 1s                               | 51               | 73698           |</pre>"
      ],
      "text/plain": [
       "| 3m 1s                               | 51               | 73698           |"
      ]
     },
     "metadata": {},
     "output_type": "display_data"
    },
    {
     "data": {
      "text/html": [
       "<pre>| 3m 3s                               | 51               | 73806           |</pre>"
      ],
      "text/plain": [
       "| 3m 3s                               | 51               | 73806           |"
      ]
     },
     "metadata": {},
     "output_type": "display_data"
    },
    {
     "data": {
      "text/html": [
       "<pre>| 3m 5s                               | 51.25            | 73999           |</pre>"
      ],
      "text/plain": [
       "| 3m 5s                               | 51.25            | 73999           |"
      ]
     },
     "metadata": {},
     "output_type": "display_data"
    },
    {
     "data": {
      "text/html": [
       "<pre>| 3m 7s                               | 51.25            | 74119           |</pre>"
      ],
      "text/plain": [
       "| 3m 7s                               | 51.25            | 74119           |"
      ]
     },
     "metadata": {},
     "output_type": "display_data"
    },
    {
     "data": {
      "text/html": [
       "<pre>| 3m 7s                               | 51.25            | 74148           |</pre>"
      ],
      "text/plain": [
       "| 3m 7s                               | 51.25            | 74148           |"
      ]
     },
     "metadata": {},
     "output_type": "display_data"
    },
    {
     "data": {
      "text/html": [
       "<pre>| 3m 8s                               | 51.5             | 74242           |</pre>"
      ],
      "text/plain": [
       "| 3m 8s                               | 51.5             | 74242           |"
      ]
     },
     "metadata": {},
     "output_type": "display_data"
    },
    {
     "data": {
      "text/html": [
       "<pre>| 3m 9s                               | 51.5             | 74347           |</pre>"
      ],
      "text/plain": [
       "| 3m 9s                               | 51.5             | 74347           |"
      ]
     },
     "metadata": {},
     "output_type": "display_data"
    },
    {
     "data": {
      "text/html": [
       "<pre>| 3m 10s                              | 51.5             | 74416           |</pre>"
      ],
      "text/plain": [
       "| 3m 10s                              | 51.5             | 74416           |"
      ]
     },
     "metadata": {},
     "output_type": "display_data"
    },
    {
     "data": {
      "text/html": [
       "<pre>| 3m 11s                              | 51.5             | 74505           |</pre>"
      ],
      "text/plain": [
       "| 3m 11s                              | 51.5             | 74505           |"
      ]
     },
     "metadata": {},
     "output_type": "display_data"
    },
    {
     "data": {
      "text/html": [
       "<pre>| 3m 12s                              | 51.75            | 74605           |</pre>"
      ],
      "text/plain": [
       "| 3m 12s                              | 51.75            | 74605           |"
      ]
     },
     "metadata": {},
     "output_type": "display_data"
    },
    {
     "data": {
      "text/html": [
       "<pre>| 3m 13s                              | 51.75            | 74731           |</pre>"
      ],
      "text/plain": [
       "| 3m 13s                              | 51.75            | 74731           |"
      ]
     },
     "metadata": {},
     "output_type": "display_data"
    },
    {
     "data": {
      "text/html": [
       "<pre>| 3m 14s                              | 51.75            | 74787           |</pre>"
      ],
      "text/plain": [
       "| 3m 14s                              | 51.75            | 74787           |"
      ]
     },
     "metadata": {},
     "output_type": "display_data"
    },
    {
     "data": {
      "text/html": [
       "<pre>| 3m 16s                              | 52               | 74975           |</pre>"
      ],
      "text/plain": [
       "| 3m 16s                              | 52               | 74975           |"
      ]
     },
     "metadata": {},
     "output_type": "display_data"
    },
    {
     "data": {
      "text/html": [
       "<pre>| 3m 18s                              | 52               | 75100           |</pre>"
      ],
      "text/plain": [
       "| 3m 18s                              | 52               | 75100           |"
      ]
     },
     "metadata": {},
     "output_type": "display_data"
    },
    {
     "data": {
      "text/html": [
       "<pre>| 3m 19s                              | 52               | 75164           |</pre>"
      ],
      "text/plain": [
       "| 3m 19s                              | 52               | 75164           |"
      ]
     },
     "metadata": {},
     "output_type": "display_data"
    },
    {
     "data": {
      "text/html": [
       "<pre>| 3m 19s                              | 52               | 75224           |</pre>"
      ],
      "text/plain": [
       "| 3m 19s                              | 52               | 75224           |"
      ]
     },
     "metadata": {},
     "output_type": "display_data"
    },
    {
     "data": {
      "text/html": [
       "<pre>| 3m 20s                              | 52.25            | 75320           |</pre>"
      ],
      "text/plain": [
       "| 3m 20s                              | 52.25            | 75320           |"
      ]
     },
     "metadata": {},
     "output_type": "display_data"
    },
    {
     "data": {
      "text/html": [
       "<pre>| 3m 21s                              | 52.25            | 75406           |</pre>"
      ],
      "text/plain": [
       "| 3m 21s                              | 52.25            | 75406           |"
      ]
     },
     "metadata": {},
     "output_type": "display_data"
    },
    {
     "data": {
      "text/html": [
       "<pre>| 3m 23s                              | 52.25            | 75545           |</pre>"
      ],
      "text/plain": [
       "| 3m 23s                              | 52.25            | 75545           |"
      ]
     },
     "metadata": {},
     "output_type": "display_data"
    },
    {
     "data": {
      "text/html": [
       "<pre>| 3m 23s                              | 52.25            | 75606           |</pre>"
      ],
      "text/plain": [
       "| 3m 23s                              | 52.25            | 75606           |"
      ]
     },
     "metadata": {},
     "output_type": "display_data"
    },
    {
     "data": {
      "text/html": [
       "<pre>| 3m 24s                              | 52.5             | 75641           |</pre>"
      ],
      "text/plain": [
       "| 3m 24s                              | 52.5             | 75641           |"
      ]
     },
     "metadata": {},
     "output_type": "display_data"
    },
    {
     "data": {
      "text/html": [
       "<pre>| 3m 25s                              | 52.5             | 75722           |</pre>"
      ],
      "text/plain": [
       "| 3m 25s                              | 52.5             | 75722           |"
      ]
     },
     "metadata": {},
     "output_type": "display_data"
    },
    {
     "data": {
      "text/html": [
       "<pre>| 3m 27s                              | 52.5             | 75836           |</pre>"
      ],
      "text/plain": [
       "| 3m 27s                              | 52.5             | 75836           |"
      ]
     },
     "metadata": {},
     "output_type": "display_data"
    },
    {
     "data": {
      "text/html": [
       "<pre>| 3m 27s                              | 52.5             | 75871           |</pre>"
      ],
      "text/plain": [
       "| 3m 27s                              | 52.5             | 75871           |"
      ]
     },
     "metadata": {},
     "output_type": "display_data"
    },
    {
     "data": {
      "text/html": [
       "<pre>| 3m 28s                              | 52.5             | 75951           |</pre>"
      ],
      "text/plain": [
       "| 3m 28s                              | 52.5             | 75951           |"
      ]
     },
     "metadata": {},
     "output_type": "display_data"
    },
    {
     "data": {
      "text/html": [
       "<pre>| 3m 30s                              | 52.75            | 76046           |</pre>"
      ],
      "text/plain": [
       "| 3m 30s                              | 52.75            | 76046           |"
      ]
     },
     "metadata": {},
     "output_type": "display_data"
    },
    {
     "data": {
      "text/html": [
       "<pre>| 3m 30s                              | 52.75            | 76125           |</pre>"
      ],
      "text/plain": [
       "| 3m 30s                              | 52.75            | 76125           |"
      ]
     },
     "metadata": {},
     "output_type": "display_data"
    },
    {
     "data": {
      "text/html": [
       "<pre>| 3m 31s                              | 52.75            | 76214           |</pre>"
      ],
      "text/plain": [
       "| 3m 31s                              | 52.75            | 76214           |"
      ]
     },
     "metadata": {},
     "output_type": "display_data"
    },
    {
     "data": {
      "text/html": [
       "<pre>| 3m 33s                              | 52.75            | 76329           |</pre>"
      ],
      "text/plain": [
       "| 3m 33s                              | 52.75            | 76329           |"
      ]
     },
     "metadata": {},
     "output_type": "display_data"
    },
    {
     "data": {
      "text/html": [
       "<pre>| 3m 34s                              | 53               | 76435           |</pre>"
      ],
      "text/plain": [
       "| 3m 34s                              | 53               | 76435           |"
      ]
     },
     "metadata": {},
     "output_type": "display_data"
    },
    {
     "data": {
      "text/html": [
       "<pre>| 3m 35s                              | 53               | 76518           |</pre>"
      ],
      "text/plain": [
       "| 3m 35s                              | 53               | 76518           |"
      ]
     },
     "metadata": {},
     "output_type": "display_data"
    },
    {
     "data": {
      "text/html": [
       "<pre>| 3m 36s                              | 53               | 76566           |</pre>"
      ],
      "text/plain": [
       "| 3m 36s                              | 53               | 76566           |"
      ]
     },
     "metadata": {},
     "output_type": "display_data"
    },
    {
     "data": {
      "text/html": [
       "<pre>| 3m 36s                              | 53               | 76626           |</pre>"
      ],
      "text/plain": [
       "| 3m 36s                              | 53               | 76626           |"
      ]
     },
     "metadata": {},
     "output_type": "display_data"
    },
    {
     "data": {
      "text/html": [
       "<pre>| 3m 37s                              | 53               | 76717           |</pre>"
      ],
      "text/plain": [
       "| 3m 37s                              | 53               | 76717           |"
      ]
     },
     "metadata": {},
     "output_type": "display_data"
    },
    {
     "data": {
      "text/html": [
       "<pre>| 3m 38s                              | 53.25            | 76789           |</pre>"
      ],
      "text/plain": [
       "| 3m 38s                              | 53.25            | 76789           |"
      ]
     },
     "metadata": {},
     "output_type": "display_data"
    },
    {
     "data": {
      "text/html": [
       "<pre>| 3m 39s                              | 53.25            | 76924           |</pre>"
      ],
      "text/plain": [
       "| 3m 39s                              | 53.25            | 76924           |"
      ]
     },
     "metadata": {},
     "output_type": "display_data"
    },
    {
     "data": {
      "text/html": [
       "<pre>| 3m 41s                              | 53.25            | 76992           |</pre>"
      ],
      "text/plain": [
       "| 3m 41s                              | 53.25            | 76992           |"
      ]
     },
     "metadata": {},
     "output_type": "display_data"
    },
    {
     "data": {
      "text/html": [
       "<pre>| 3m 42s                              | 53.25            | 77074           |</pre>"
      ],
      "text/plain": [
       "| 3m 42s                              | 53.25            | 77074           |"
      ]
     },
     "metadata": {},
     "output_type": "display_data"
    },
    {
     "data": {
      "text/html": [
       "<pre>| 3m 42s                              | 53.5             | 77129           |</pre>"
      ],
      "text/plain": [
       "| 3m 42s                              | 53.5             | 77129           |"
      ]
     },
     "metadata": {},
     "output_type": "display_data"
    },
    {
     "data": {
      "text/html": [
       "<pre>| 3m 44s                              | 53.5             | 77271           |</pre>"
      ],
      "text/plain": [
       "| 3m 44s                              | 53.5             | 77271           |"
      ]
     },
     "metadata": {},
     "output_type": "display_data"
    },
    {
     "data": {
      "text/html": [
       "<pre>| 3m 45s                              | 53.5             | 77427           |</pre>"
      ],
      "text/plain": [
       "| 3m 45s                              | 53.5             | 77427           |"
      ]
     },
     "metadata": {},
     "output_type": "display_data"
    },
    {
     "data": {
      "text/html": [
       "<pre>| 3m 46s                              | 53.5             | 77428           |</pre>"
      ],
      "text/plain": [
       "| 3m 46s                              | 53.5             | 77428           |"
      ]
     },
     "metadata": {},
     "output_type": "display_data"
    },
    {
     "data": {
      "text/html": [
       "<pre>| 3m 46s                              | 53.75            | 77468           |</pre>"
      ],
      "text/plain": [
       "| 3m 46s                              | 53.75            | 77468           |"
      ]
     },
     "metadata": {},
     "output_type": "display_data"
    },
    {
     "data": {
      "text/html": [
       "<pre>| 3m 47s                              | 53.75            | 77548           |</pre>"
      ],
      "text/plain": [
       "| 3m 47s                              | 53.75            | 77548           |"
      ]
     },
     "metadata": {},
     "output_type": "display_data"
    },
    {
     "data": {
      "text/html": [
       "<pre>| 3m 48s                              | 53.75            | 77620           |</pre>"
      ],
      "text/plain": [
       "| 3m 48s                              | 53.75            | 77620           |"
      ]
     },
     "metadata": {},
     "output_type": "display_data"
    },
    {
     "data": {
      "text/html": [
       "<pre>| 3m 50s                              | 53.75            | 77775           |</pre>"
      ],
      "text/plain": [
       "| 3m 50s                              | 53.75            | 77775           |"
      ]
     },
     "metadata": {},
     "output_type": "display_data"
    },
    {
     "data": {
      "text/html": [
       "<pre>| 3m 51s                              | 54               | 77840           |</pre>"
      ],
      "text/plain": [
       "| 3m 51s                              | 54               | 77840           |"
      ]
     },
     "metadata": {},
     "output_type": "display_data"
    },
    {
     "data": {
      "text/html": [
       "<pre>| 3m 52s                              | 54               | 77887           |</pre>"
      ],
      "text/plain": [
       "| 3m 52s                              | 54               | 77887           |"
      ]
     },
     "metadata": {},
     "output_type": "display_data"
    },
    {
     "data": {
      "text/html": [
       "<pre>| 3m 53s                              | 54               | 78012           |</pre>"
      ],
      "text/plain": [
       "| 3m 53s                              | 54               | 78012           |"
      ]
     },
     "metadata": {},
     "output_type": "display_data"
    },
    {
     "data": {
      "text/html": [
       "<pre>| 3m 54s                              | 54               | 78071           |</pre>"
      ],
      "text/plain": [
       "| 3m 54s                              | 54               | 78071           |"
      ]
     },
     "metadata": {},
     "output_type": "display_data"
    },
    {
     "data": {
      "text/html": [
       "<pre>| 3m 54s                              | 54               | 78140           |</pre>"
      ],
      "text/plain": [
       "| 3m 54s                              | 54               | 78140           |"
      ]
     },
     "metadata": {},
     "output_type": "display_data"
    },
    {
     "data": {
      "text/html": [
       "<pre>| 3m 55s                              | 54.25            | 78229           |</pre>"
      ],
      "text/plain": [
       "| 3m 55s                              | 54.25            | 78229           |"
      ]
     },
     "metadata": {},
     "output_type": "display_data"
    },
    {
     "data": {
      "text/html": [
       "<pre>| 3m 56s                              | 54.25            | 78325           |</pre>"
      ],
      "text/plain": [
       "| 3m 56s                              | 54.25            | 78325           |"
      ]
     },
     "metadata": {},
     "output_type": "display_data"
    },
    {
     "data": {
      "text/html": [
       "<pre>| 3m 57s                              | 54.25            | 78424           |</pre>"
      ],
      "text/plain": [
       "| 3m 57s                              | 54.25            | 78424           |"
      ]
     },
     "metadata": {},
     "output_type": "display_data"
    },
    {
     "data": {
      "text/html": [
       "<pre>| 4m 0s                               | 54.5             | 78626           |</pre>"
      ],
      "text/plain": [
       "| 4m 0s                               | 54.5             | 78626           |"
      ]
     },
     "metadata": {},
     "output_type": "display_data"
    },
    {
     "data": {
      "text/html": [
       "<pre>| 4m 1s                               | 54.5             | 78703           |</pre>"
      ],
      "text/plain": [
       "| 4m 1s                               | 54.5             | 78703           |"
      ]
     },
     "metadata": {},
     "output_type": "display_data"
    },
    {
     "data": {
      "text/html": [
       "<pre>| 4m 4s                               | 54.75            | 78947           |</pre>"
      ],
      "text/plain": [
       "| 4m 4s                               | 54.75            | 78947           |"
      ]
     },
     "metadata": {},
     "output_type": "display_data"
    },
    {
     "data": {
      "text/html": [
       "<pre>| 4m 6s                               | 54.75            | 79107           |</pre>"
      ],
      "text/plain": [
       "| 4m 6s                               | 54.75            | 79107           |"
      ]
     },
     "metadata": {},
     "output_type": "display_data"
    },
    {
     "data": {
      "text/html": [
       "<pre>| 4m 6s                               | 54.75            | 79120           |</pre>"
      ],
      "text/plain": [
       "| 4m 6s                               | 54.75            | 79120           |"
      ]
     },
     "metadata": {},
     "output_type": "display_data"
    },
    {
     "data": {
      "text/html": [
       "<pre>| 4m 7s                               | 54.75            | 79236           |</pre>"
      ],
      "text/plain": [
       "| 4m 7s                               | 54.75            | 79236           |"
      ]
     },
     "metadata": {},
     "output_type": "display_data"
    },
    {
     "data": {
      "text/html": [
       "<pre>| 4m 8s                               | 55               | 79295           |</pre>"
      ],
      "text/plain": [
       "| 4m 8s                               | 55               | 79295           |"
      ]
     },
     "metadata": {},
     "output_type": "display_data"
    },
    {
     "data": {
      "text/html": [
       "<pre>| 4m 10s                              | 55               | 79463           |</pre>"
      ],
      "text/plain": [
       "| 4m 10s                              | 55               | 79463           |"
      ]
     },
     "metadata": {},
     "output_type": "display_data"
    },
    {
     "data": {
      "text/html": [
       "<pre>| 4m 10s                              | 55               | 79476           |</pre>"
      ],
      "text/plain": [
       "| 4m 10s                              | 55               | 79476           |"
      ]
     },
     "metadata": {},
     "output_type": "display_data"
    },
    {
     "data": {
      "text/html": [
       "<pre>| 4m 11s                              | 55               | 79587           |</pre>"
      ],
      "text/plain": [
       "| 4m 11s                              | 55               | 79587           |"
      ]
     },
     "metadata": {},
     "output_type": "display_data"
    },
    {
     "data": {
      "text/html": [
       "<pre>| 4m 12s                              | 55.25            | 79663           |</pre>"
      ],
      "text/plain": [
       "| 4m 12s                              | 55.25            | 79663           |"
      ]
     },
     "metadata": {},
     "output_type": "display_data"
    },
    {
     "data": {
      "text/html": [
       "<pre>| 4m 13s                              | 55.25            | 79733           |</pre>"
      ],
      "text/plain": [
       "| 4m 13s                              | 55.25            | 79733           |"
      ]
     },
     "metadata": {},
     "output_type": "display_data"
    },
    {
     "data": {
      "text/html": [
       "<pre>| 4m 14s                              | 55.25            | 79827           |</pre>"
      ],
      "text/plain": [
       "| 4m 14s                              | 55.25            | 79827           |"
      ]
     },
     "metadata": {},
     "output_type": "display_data"
    },
    {
     "data": {
      "text/html": [
       "<pre>| 4m 16s                              | 55.5             | 79986           |</pre>"
      ],
      "text/plain": [
       "| 4m 16s                              | 55.5             | 79986           |"
      ]
     },
     "metadata": {},
     "output_type": "display_data"
    },
    {
     "data": {
      "text/html": [
       "<pre>| 4m 16s                              | 55.5             | 79997           |</pre>"
      ],
      "text/plain": [
       "| 4m 16s                              | 55.5             | 79997           |"
      ]
     },
     "metadata": {},
     "output_type": "display_data"
    },
    {
     "data": {
      "text/html": [
       "<pre>| 4m 17s                              | 55.5             | 80087           |</pre>"
      ],
      "text/plain": [
       "| 4m 17s                              | 55.5             | 80087           |"
      ]
     },
     "metadata": {},
     "output_type": "display_data"
    },
    {
     "data": {
      "text/html": [
       "<pre>| 4m 18s                              | 55.5             | 80190           |</pre>"
      ],
      "text/plain": [
       "| 4m 18s                              | 55.5             | 80190           |"
      ]
     },
     "metadata": {},
     "output_type": "display_data"
    },
    {
     "data": {
      "text/html": [
       "<pre>| 4m 20s                              | 55.75            | 80357           |</pre>"
      ],
      "text/plain": [
       "| 4m 20s                              | 55.75            | 80357           |"
      ]
     },
     "metadata": {},
     "output_type": "display_data"
    },
    {
     "data": {
      "text/html": [
       "<pre>| 4m 20s                              | 55.75            | 80367           |</pre>"
      ],
      "text/plain": [
       "| 4m 20s                              | 55.75            | 80367           |"
      ]
     },
     "metadata": {},
     "output_type": "display_data"
    },
    {
     "data": {
      "text/html": [
       "<pre>| 4m 21s                              | 55.75            | 80455           |</pre>"
      ],
      "text/plain": [
       "| 4m 21s                              | 55.75            | 80455           |"
      ]
     },
     "metadata": {},
     "output_type": "display_data"
    },
    {
     "data": {
      "text/html": [
       "<pre>| 4m 22s                              | 55.75            | 80559           |</pre>"
      ],
      "text/plain": [
       "| 4m 22s                              | 55.75            | 80559           |"
      ]
     },
     "metadata": {},
     "output_type": "display_data"
    },
    {
     "data": {
      "text/html": [
       "<pre>| 4m 23s                              | 55.75            | 80624           |</pre>"
      ],
      "text/plain": [
       "| 4m 23s                              | 55.75            | 80624           |"
      ]
     },
     "metadata": {},
     "output_type": "display_data"
    },
    {
     "data": {
      "text/html": [
       "<pre>| 4m 24s                              | 56               | 80715           |</pre>"
      ],
      "text/plain": [
       "| 4m 24s                              | 56               | 80715           |"
      ]
     },
     "metadata": {},
     "output_type": "display_data"
    },
    {
     "data": {
      "text/html": [
       "<pre>| 4m 27s                              | 56               | 81021           |</pre>"
      ],
      "text/plain": [
       "| 4m 27s                              | 56               | 81021           |"
      ]
     },
     "metadata": {},
     "output_type": "display_data"
    },
    {
     "data": {
      "text/html": [
       "<pre>| 4m 28s                              | 56.25            | 81118           |</pre>"
      ],
      "text/plain": [
       "| 4m 28s                              | 56.25            | 81118           |"
      ]
     },
     "metadata": {},
     "output_type": "display_data"
    },
    {
     "data": {
      "text/html": [
       "<pre>| 4m 29s                              | 56.25            | 81201           |</pre>"
      ],
      "text/plain": [
       "| 4m 29s                              | 56.25            | 81201           |"
      ]
     },
     "metadata": {},
     "output_type": "display_data"
    },
    {
     "data": {
      "text/html": [
       "<pre>| 4m 30s                              | 56.25            | 81287           |</pre>"
      ],
      "text/plain": [
       "| 4m 30s                              | 56.25            | 81287           |"
      ]
     },
     "metadata": {},
     "output_type": "display_data"
    },
    {
     "data": {
      "text/html": [
       "<pre>| 4m 32s                              | 56.5             | 81445           |</pre>"
      ],
      "text/plain": [
       "| 4m 32s                              | 56.5             | 81445           |"
      ]
     },
     "metadata": {},
     "output_type": "display_data"
    },
    {
     "data": {
      "text/html": [
       "<pre>| 4m 32s                              | 56.5             | 81461           |</pre>"
      ],
      "text/plain": [
       "| 4m 32s                              | 56.5             | 81461           |"
      ]
     },
     "metadata": {},
     "output_type": "display_data"
    },
    {
     "data": {
      "text/html": [
       "<pre>| 4m 34s                              | 56.5             | 81625           |</pre>"
      ],
      "text/plain": [
       "| 4m 34s                              | 56.5             | 81625           |"
      ]
     },
     "metadata": {},
     "output_type": "display_data"
    },
    {
     "data": {
      "text/html": [
       "<pre>| 4m 35s                              | 56.5             | 81672           |</pre>"
      ],
      "text/plain": [
       "| 4m 35s                              | 56.5             | 81672           |"
      ]
     },
     "metadata": {},
     "output_type": "display_data"
    },
    {
     "data": {
      "text/html": [
       "<pre>| 4m 35s                              | 56.5             | 81738           |</pre>"
      ],
      "text/plain": [
       "| 4m 35s                              | 56.5             | 81738           |"
      ]
     },
     "metadata": {},
     "output_type": "display_data"
    },
    {
     "data": {
      "text/html": [
       "<pre>| 4m 36s                              | 56.75            | 81816           |</pre>"
      ],
      "text/plain": [
       "| 4m 36s                              | 56.75            | 81816           |"
      ]
     },
     "metadata": {},
     "output_type": "display_data"
    },
    {
     "data": {
      "text/html": [
       "<pre>| 4m 38s                              | 56.75            | 82011           |</pre>"
      ],
      "text/plain": [
       "| 4m 38s                              | 56.75            | 82011           |"
      ]
     },
     "metadata": {},
     "output_type": "display_data"
    },
    {
     "data": {
      "text/html": [
       "<pre>| 4m 40s                              | 56.75            | 82117           |</pre>"
      ],
      "text/plain": [
       "| 4m 40s                              | 56.75            | 82117           |"
      ]
     },
     "metadata": {},
     "output_type": "display_data"
    },
    {
     "data": {
      "text/html": [
       "<pre>| 4m 40s                              | 57               | 82195           |</pre>"
      ],
      "text/plain": [
       "| 4m 40s                              | 57               | 82195           |"
      ]
     },
     "metadata": {},
     "output_type": "display_data"
    },
    {
     "data": {
      "text/html": [
       "<pre>| 4m 41s                              | 57               | 82280           |</pre>"
      ],
      "text/plain": [
       "| 4m 41s                              | 57               | 82280           |"
      ]
     },
     "metadata": {},
     "output_type": "display_data"
    },
    {
     "data": {
      "text/html": [
       "<pre>| 4m 42s                              | 57               | 82355           |</pre>"
      ],
      "text/plain": [
       "| 4m 42s                              | 57               | 82355           |"
      ]
     },
     "metadata": {},
     "output_type": "display_data"
    },
    {
     "data": {
      "text/html": [
       "<pre>| 4m 43s                              | 57               | 82441           |</pre>"
      ],
      "text/plain": [
       "| 4m 43s                              | 57               | 82441           |"
      ]
     },
     "metadata": {},
     "output_type": "display_data"
    },
    {
     "data": {
      "text/html": [
       "<pre>| 4m 44s                              | 57.25            | 82537           |</pre>"
      ],
      "text/plain": [
       "| 4m 44s                              | 57.25            | 82537           |"
      ]
     },
     "metadata": {},
     "output_type": "display_data"
    },
    {
     "data": {
      "text/html": [
       "<pre>| 4m 47s                              | 57.25            | 82731           |</pre>"
      ],
      "text/plain": [
       "| 4m 47s                              | 57.25            | 82731           |"
      ]
     },
     "metadata": {},
     "output_type": "display_data"
    },
    {
     "data": {
      "text/html": [
       "<pre>| 4m 48s                              | 57.25            | 82827           |</pre>"
      ],
      "text/plain": [
       "| 4m 48s                              | 57.25            | 82827           |"
      ]
     },
     "metadata": {},
     "output_type": "display_data"
    },
    {
     "data": {
      "text/html": [
       "<pre>| 4m 49s                              | 57.5             | 82952           |</pre>"
      ],
      "text/plain": [
       "| 4m 49s                              | 57.5             | 82952           |"
      ]
     },
     "metadata": {},
     "output_type": "display_data"
    },
    {
     "data": {
      "text/html": [
       "<pre>| 4m 50s                              | 57.5             | 83051           |</pre>"
      ],
      "text/plain": [
       "| 4m 50s                              | 57.5             | 83051           |"
      ]
     },
     "metadata": {},
     "output_type": "display_data"
    },
    {
     "data": {
      "text/html": [
       "<pre>| 4m 51s                              | 57.5             | 83116           |</pre>"
      ],
      "text/plain": [
       "| 4m 51s                              | 57.5             | 83116           |"
      ]
     },
     "metadata": {},
     "output_type": "display_data"
    },
    {
     "data": {
      "text/html": [
       "<pre>| 4m 52s                              | 57.5             | 83198           |</pre>"
      ],
      "text/plain": [
       "| 4m 52s                              | 57.5             | 83198           |"
      ]
     },
     "metadata": {},
     "output_type": "display_data"
    },
    {
     "data": {
      "text/html": [
       "<pre>| 4m 53s                              | 57.75            | 83274           |</pre>"
      ],
      "text/plain": [
       "| 4m 53s                              | 57.75            | 83274           |"
      ]
     },
     "metadata": {},
     "output_type": "display_data"
    },
    {
     "data": {
      "text/html": [
       "<pre>| 4m 54s                              | 57.75            | 83356           |</pre>"
      ],
      "text/plain": [
       "| 4m 54s                              | 57.75            | 83356           |"
      ]
     },
     "metadata": {},
     "output_type": "display_data"
    },
    {
     "data": {
      "text/html": [
       "<pre>| 4m 55s                              | 57.75            | 83470           |</pre>"
      ],
      "text/plain": [
       "| 4m 55s                              | 57.75            | 83470           |"
      ]
     },
     "metadata": {},
     "output_type": "display_data"
    },
    {
     "data": {
      "text/html": [
       "<pre>| 4m 56s                              | 57.75            | 83518           |</pre>"
      ],
      "text/plain": [
       "| 4m 56s                              | 57.75            | 83518           |"
      ]
     },
     "metadata": {},
     "output_type": "display_data"
    },
    {
     "data": {
      "text/html": [
       "<pre>| 4m 58s                              | 58               | 83704           |</pre>"
      ],
      "text/plain": [
       "| 4m 58s                              | 58               | 83704           |"
      ]
     },
     "metadata": {},
     "output_type": "display_data"
    },
    {
     "data": {
      "text/html": [
       "<pre>| 4m 59s                              | 58               | 83787           |</pre>"
      ],
      "text/plain": [
       "| 4m 59s                              | 58               | 83787           |"
      ]
     },
     "metadata": {},
     "output_type": "display_data"
    },
    {
     "data": {
      "text/html": [
       "<pre>| 5m 0s                               | 58               | 83894           |</pre>"
      ],
      "text/plain": [
       "| 5m 0s                               | 58               | 83894           |"
      ]
     },
     "metadata": {},
     "output_type": "display_data"
    },
    {
     "data": {
      "text/html": [
       "<pre>| 5m 3s                               | 58.25            | 84149           |</pre>"
      ],
      "text/plain": [
       "| 5m 3s                               | 58.25            | 84149           |"
      ]
     },
     "metadata": {},
     "output_type": "display_data"
    },
    {
     "data": {
      "text/html": [
       "<pre>| 5m 4s                               | 58.25            | 84230           |</pre>"
      ],
      "text/plain": [
       "| 5m 4s                               | 58.25            | 84230           |"
      ]
     },
     "metadata": {},
     "output_type": "display_data"
    },
    {
     "data": {
      "text/html": [
       "<pre>| 5m 6s                               | 58.5             | 84370           |</pre>"
      ],
      "text/plain": [
       "| 5m 6s                               | 58.5             | 84370           |"
      ]
     },
     "metadata": {},
     "output_type": "display_data"
    },
    {
     "data": {
      "text/html": [
       "<pre>| 5m 6s                               | 58.5             | 84390           |</pre>"
      ],
      "text/plain": [
       "| 5m 6s                               | 58.5             | 84390           |"
      ]
     },
     "metadata": {},
     "output_type": "display_data"
    },
    {
     "data": {
      "text/html": [
       "<pre>| 5m 7s                               | 58.5             | 84507           |</pre>"
      ],
      "text/plain": [
       "| 5m 7s                               | 58.5             | 84507           |"
      ]
     },
     "metadata": {},
     "output_type": "display_data"
    },
    {
     "data": {
      "text/html": [
       "<pre>| 5m 8s                               | 58.5             | 84552           |</pre>"
      ],
      "text/plain": [
       "| 5m 8s                               | 58.5             | 84552           |"
      ]
     },
     "metadata": {},
     "output_type": "display_data"
    },
    {
     "data": {
      "text/html": [
       "<pre>| 5m 9s                               | 58.75            | 84659           |</pre>"
      ],
      "text/plain": [
       "| 5m 9s                               | 58.75            | 84659           |"
      ]
     },
     "metadata": {},
     "output_type": "display_data"
    },
    {
     "data": {
      "text/html": [
       "<pre>| 5m 10s                              | 58.75            | 84754           |</pre>"
      ],
      "text/plain": [
       "| 5m 10s                              | 58.75            | 84754           |"
      ]
     },
     "metadata": {},
     "output_type": "display_data"
    },
    {
     "data": {
      "text/html": [
       "<pre>| 5m 11s                              | 58.75            | 84834           |</pre>"
      ],
      "text/plain": [
       "| 5m 11s                              | 58.75            | 84834           |"
      ]
     },
     "metadata": {},
     "output_type": "display_data"
    },
    {
     "data": {
      "text/html": [
       "<pre>| 5m 12s                              | 58.75            | 84903           |</pre>"
      ],
      "text/plain": [
       "| 5m 12s                              | 58.75            | 84903           |"
      ]
     },
     "metadata": {},
     "output_type": "display_data"
    },
    {
     "data": {
      "text/html": [
       "<pre>| 5m 13s                              | 59               | 85010           |</pre>"
      ],
      "text/plain": [
       "| 5m 13s                              | 59               | 85010           |"
      ]
     },
     "metadata": {},
     "output_type": "display_data"
    },
    {
     "data": {
      "text/html": [
       "<pre>| 5m 14s                              | 59               | 85076           |</pre>"
      ],
      "text/plain": [
       "| 5m 14s                              | 59               | 85076           |"
      ]
     },
     "metadata": {},
     "output_type": "display_data"
    },
    {
     "data": {
      "text/html": [
       "<pre>| 5m 15s                              | 59               | 85210           |</pre>"
      ],
      "text/plain": [
       "| 5m 15s                              | 59               | 85210           |"
      ]
     },
     "metadata": {},
     "output_type": "display_data"
    },
    {
     "data": {
      "text/html": [
       "<pre>| 5m 16s                              | 59               | 85276           |</pre>"
      ],
      "text/plain": [
       "| 5m 16s                              | 59               | 85276           |"
      ]
     },
     "metadata": {},
     "output_type": "display_data"
    },
    {
     "data": {
      "text/html": [
       "<pre>| 5m 19s                              | 59.25            | 85544           |</pre>"
      ],
      "text/plain": [
       "| 5m 19s                              | 59.25            | 85544           |"
      ]
     },
     "metadata": {},
     "output_type": "display_data"
    },
    {
     "data": {
      "text/html": [
       "<pre>| 5m 21s                              | 59.25            | 85691           |</pre>"
      ],
      "text/plain": [
       "| 5m 21s                              | 59.25            | 85691           |"
      ]
     },
     "metadata": {},
     "output_type": "display_data"
    },
    {
     "data": {
      "text/html": [
       "<pre>| 5m 21s                              | 59.25            | 85713           |</pre>"
      ],
      "text/plain": [
       "| 5m 21s                              | 59.25            | 85713           |"
      ]
     },
     "metadata": {},
     "output_type": "display_data"
    },
    {
     "data": {
      "text/html": [
       "<pre>| 5m 23s                              | 59.5             | 85808           |</pre>"
      ],
      "text/plain": [
       "| 5m 23s                              | 59.5             | 85808           |"
      ]
     },
     "metadata": {},
     "output_type": "display_data"
    },
    {
     "data": {
      "text/html": [
       "<pre>| 5m 23s                              | 59.5             | 85900           |</pre>"
      ],
      "text/plain": [
       "| 5m 23s                              | 59.5             | 85900           |"
      ]
     },
     "metadata": {},
     "output_type": "display_data"
    },
    {
     "data": {
      "text/html": [
       "<pre>| 5m 25s                              | 59.5             | 85938           |</pre>"
      ],
      "text/plain": [
       "| 5m 25s                              | 59.5             | 85938           |"
      ]
     },
     "metadata": {},
     "output_type": "display_data"
    },
    {
     "data": {
      "text/html": [
       "<pre>| 5m 26s                              | 59.5             | 86051           |</pre>"
      ],
      "text/plain": [
       "| 5m 26s                              | 59.5             | 86051           |"
      ]
     },
     "metadata": {},
     "output_type": "display_data"
    },
    {
     "data": {
      "text/html": [
       "<pre>| 5m 27s                              | 59.5             | 86068           |</pre>"
      ],
      "text/plain": [
       "| 5m 27s                              | 59.5             | 86068           |"
      ]
     },
     "metadata": {},
     "output_type": "display_data"
    },
    {
     "data": {
      "text/html": [
       "<pre>| 5m 28s                              | 59.75            | 86209           |</pre>"
      ],
      "text/plain": [
       "| 5m 28s                              | 59.75            | 86209           |"
      ]
     },
     "metadata": {},
     "output_type": "display_data"
    },
    {
     "data": {
      "text/html": [
       "<pre>| 5m 28s                              | 59.75            | 86211           |</pre>"
      ],
      "text/plain": [
       "| 5m 28s                              | 59.75            | 86211           |"
      ]
     },
     "metadata": {},
     "output_type": "display_data"
    },
    {
     "data": {
      "text/html": [
       "<pre>| 5m 30s                              | 59.75            | 86366           |</pre>"
      ],
      "text/plain": [
       "| 5m 30s                              | 59.75            | 86366           |"
      ]
     },
     "metadata": {},
     "output_type": "display_data"
    },
    {
     "data": {
      "text/html": [
       "<pre>| 5m 30s                              | 59.75            | 86369           |</pre>"
      ],
      "text/plain": [
       "| 5m 30s                              | 59.75            | 86369           |"
      ]
     },
     "metadata": {},
     "output_type": "display_data"
    },
    {
     "data": {
      "text/html": [
       "<pre>| 5m 32s                              | 60               | 86479           |</pre>"
      ],
      "text/plain": [
       "| 5m 32s                              | 60               | 86479           |"
      ]
     },
     "metadata": {},
     "output_type": "display_data"
    },
    {
     "data": {
      "text/html": [
       "<pre>| 5m 33s                              | 60               | 86571           |</pre>"
      ],
      "text/plain": [
       "| 5m 33s                              | 60               | 86571           |"
      ]
     },
     "metadata": {},
     "output_type": "display_data"
    },
    {
     "data": {
      "text/html": [
       "<pre>| 5m 34s                              | 60               | 86670           |</pre>"
      ],
      "text/plain": [
       "| 5m 34s                              | 60               | 86670           |"
      ]
     },
     "metadata": {},
     "output_type": "display_data"
    },
    {
     "data": {
      "text/html": [
       "<pre>| 5m 35s                              | 60               | 86726           |</pre>"
      ],
      "text/plain": [
       "| 5m 35s                              | 60               | 86726           |"
      ]
     },
     "metadata": {},
     "output_type": "display_data"
    },
    {
     "data": {
      "text/html": [
       "<pre>| 5m 36s                              | 60.25            | 86821           |</pre>"
      ],
      "text/plain": [
       "| 5m 36s                              | 60.25            | 86821           |"
      ]
     },
     "metadata": {},
     "output_type": "display_data"
    },
    {
     "data": {
      "text/html": [
       "<pre>| 5m 36s                              | 60.25            | 86879           |</pre>"
      ],
      "text/plain": [
       "| 5m 36s                              | 60.25            | 86879           |"
      ]
     },
     "metadata": {},
     "output_type": "display_data"
    },
    {
     "data": {
      "text/html": [
       "<pre>| 5m 38s                              | 60.25            | 86979           |</pre>"
      ],
      "text/plain": [
       "| 5m 38s                              | 60.25            | 86979           |"
      ]
     },
     "metadata": {},
     "output_type": "display_data"
    },
    {
     "data": {
      "text/html": [
       "<pre>| 5m 39s                              | 60.25            | 87120           |</pre>"
      ],
      "text/plain": [
       "| 5m 39s                              | 60.25            | 87120           |"
      ]
     },
     "metadata": {},
     "output_type": "display_data"
    },
    {
     "data": {
      "text/html": [
       "<pre>| 5m 40s                              | 60.5             | 87198           |</pre>"
      ],
      "text/plain": [
       "| 5m 40s                              | 60.5             | 87198           |"
      ]
     },
     "metadata": {},
     "output_type": "display_data"
    },
    {
     "data": {
      "text/html": [
       "<pre>| 5m 41s                              | 60.5             | 87221           |</pre>"
      ],
      "text/plain": [
       "| 5m 41s                              | 60.5             | 87221           |"
      ]
     },
     "metadata": {},
     "output_type": "display_data"
    },
    {
     "data": {
      "text/html": [
       "<pre>| 5m 42s                              | 60.5             | 87290           |</pre>"
      ],
      "text/plain": [
       "| 5m 42s                              | 60.5             | 87290           |"
      ]
     },
     "metadata": {},
     "output_type": "display_data"
    },
    {
     "data": {
      "text/html": [
       "<pre>| 5m 43s                              | 60.5             | 87402           |</pre>"
      ],
      "text/plain": [
       "| 5m 43s                              | 60.5             | 87402           |"
      ]
     },
     "metadata": {},
     "output_type": "display_data"
    },
    {
     "data": {
      "text/html": [
       "<pre>| 5m 45s                              | 60.75            | 87568           |</pre>"
      ],
      "text/plain": [
       "| 5m 45s                              | 60.75            | 87568           |"
      ]
     },
     "metadata": {},
     "output_type": "display_data"
    },
    {
     "data": {
      "text/html": [
       "<pre>| 5m 46s                              | 60.75            | 87676           |</pre>"
      ],
      "text/plain": [
       "| 5m 46s                              | 60.75            | 87676           |"
      ]
     },
     "metadata": {},
     "output_type": "display_data"
    },
    {
     "data": {
      "text/html": [
       "<pre>| 5m 48s                              | 60.75            | 87771           |</pre>"
      ],
      "text/plain": [
       "| 5m 48s                              | 60.75            | 87771           |"
      ]
     },
     "metadata": {},
     "output_type": "display_data"
    },
    {
     "data": {
      "text/html": [
       "<pre>| 5m 49s                              | 60.75            | 87851           |</pre>"
      ],
      "text/plain": [
       "| 5m 49s                              | 60.75            | 87851           |"
      ]
     },
     "metadata": {},
     "output_type": "display_data"
    },
    {
     "data": {
      "text/html": [
       "<pre>| 5m 49s                              | 61               | 87894           |</pre>"
      ],
      "text/plain": [
       "| 5m 49s                              | 61               | 87894           |"
      ]
     },
     "metadata": {},
     "output_type": "display_data"
    },
    {
     "data": {
      "text/html": [
       "<pre>| 5m 50s                              | 61               | 87960           |</pre>"
      ],
      "text/plain": [
       "| 5m 50s                              | 61               | 87960           |"
      ]
     },
     "metadata": {},
     "output_type": "display_data"
    },
    {
     "data": {
      "text/html": [
       "<pre>| 5m 51s                              | 61               | 88043           |</pre>"
      ],
      "text/plain": [
       "| 5m 51s                              | 61               | 88043           |"
      ]
     },
     "metadata": {},
     "output_type": "display_data"
    },
    {
     "data": {
      "text/html": [
       "<pre>| 5m 53s                              | 61               | 88166           |</pre>"
      ],
      "text/plain": [
       "| 5m 53s                              | 61               | 88166           |"
      ]
     },
     "metadata": {},
     "output_type": "display_data"
    },
    {
     "data": {
      "text/html": [
       "<pre>| 5m 53s                              | 61               | 88214           |</pre>"
      ],
      "text/plain": [
       "| 5m 53s                              | 61               | 88214           |"
      ]
     },
     "metadata": {},
     "output_type": "display_data"
    },
    {
     "data": {
      "text/html": [
       "<pre>| 5m 55s                              | 61.25            | 88315           |</pre>"
      ],
      "text/plain": [
       "| 5m 55s                              | 61.25            | 88315           |"
      ]
     },
     "metadata": {},
     "output_type": "display_data"
    },
    {
     "data": {
      "text/html": [
       "<pre>| 5m 55s                              | 61.25            | 88380           |</pre>"
      ],
      "text/plain": [
       "| 5m 55s                              | 61.25            | 88380           |"
      ]
     },
     "metadata": {},
     "output_type": "display_data"
    },
    {
     "data": {
      "text/html": [
       "<pre>| 5m 57s                              | 61.25            | 88531           |</pre>"
      ],
      "text/plain": [
       "| 5m 57s                              | 61.25            | 88531           |"
      ]
     },
     "metadata": {},
     "output_type": "display_data"
    },
    {
     "data": {
      "text/html": [
       "<pre>| 5m 57s                              | 61.25            | 88541           |</pre>"
      ],
      "text/plain": [
       "| 5m 57s                              | 61.25            | 88541           |"
      ]
     },
     "metadata": {},
     "output_type": "display_data"
    },
    {
     "data": {
      "text/html": [
       "<pre>| 5m 58s                              | 61.5             | 88630           |</pre>"
      ],
      "text/plain": [
       "| 5m 58s                              | 61.5             | 88630           |"
      ]
     },
     "metadata": {},
     "output_type": "display_data"
    },
    {
     "data": {
      "text/html": [
       "<pre>| 6m 0s                               | 61.5             | 88789           |</pre>"
      ],
      "text/plain": [
       "| 6m 0s                               | 61.5             | 88789           |"
      ]
     },
     "metadata": {},
     "output_type": "display_data"
    },
    {
     "data": {
      "text/html": [
       "<pre>| 6m 0s                               | 61.5             | 88811           |</pre>"
      ],
      "text/plain": [
       "| 6m 0s                               | 61.5             | 88811           |"
      ]
     },
     "metadata": {},
     "output_type": "display_data"
    },
    {
     "data": {
      "text/html": [
       "<pre>| 6m 1s                               | 61.5             | 88879           |</pre>"
      ],
      "text/plain": [
       "| 6m 1s                               | 61.5             | 88879           |"
      ]
     },
     "metadata": {},
     "output_type": "display_data"
    },
    {
     "data": {
      "text/html": [
       "<pre>| 6m 3s                               | 61.75            | 89047           |</pre>"
      ],
      "text/plain": [
       "| 6m 3s                               | 61.75            | 89047           |"
      ]
     },
     "metadata": {},
     "output_type": "display_data"
    },
    {
     "data": {
      "text/html": [
       "<pre>| 6m 3s                               | 61.75            | 89061           |</pre>"
      ],
      "text/plain": [
       "| 6m 3s                               | 61.75            | 89061           |"
      ]
     },
     "metadata": {},
     "output_type": "display_data"
    },
    {
     "data": {
      "text/html": [
       "<pre>| 6m 4s                               | 61.75            | 89124           |</pre>"
      ],
      "text/plain": [
       "| 6m 4s                               | 61.75            | 89124           |"
      ]
     },
     "metadata": {},
     "output_type": "display_data"
    },
    {
     "data": {
      "text/html": [
       "<pre>| 6m 6s                               | 61.75            | 89267           |</pre>"
      ],
      "text/plain": [
       "| 6m 6s                               | 61.75            | 89267           |"
      ]
     },
     "metadata": {},
     "output_type": "display_data"
    },
    {
     "data": {
      "text/html": [
       "<pre>| 6m 7s                               | 61.75            | 89309           |</pre>"
      ],
      "text/plain": [
       "| 6m 7s                               | 61.75            | 89309           |"
      ]
     },
     "metadata": {},
     "output_type": "display_data"
    },
    {
     "name": "stderr",
     "output_type": "stream",
     "text": [
      "[ERROR] graphlab.toolkits._main: Toolkit error: Cancelled by user.\n"
     ]
    },
    {
     "ename": "ToolkitError",
     "evalue": "Cancelled by user.",
     "output_type": "error",
     "traceback": [
      "\u001b[0;31m---------------------------------------------------------------------------\u001b[0m",
      "\u001b[0;31mToolkitError\u001b[0m                              Traceback (most recent call last)",
      "\u001b[0;32m<ipython-input-3-74849878e043>\u001b[0m in \u001b[0;36m<module>\u001b[0;34m()\u001b[0m\n\u001b[1;32m     12\u001b[0m \u001b[0;31m#Train model\u001b[0m\u001b[0;34m\u001b[0m\u001b[0;34m\u001b[0m\u001b[0m\n\u001b[1;32m     13\u001b[0m item_based_model = graphlab.item_similarity_recommender.create(train_data, \n\u001b[0;32m---> 14\u001b[0;31m         user_id='user_id', item_id='bus_id', target='rating', similarity_type='pearson')\n\u001b[0m\u001b[1;32m     15\u001b[0m \u001b[0;34m\u001b[0m\u001b[0m\n\u001b[1;32m     16\u001b[0m \u001b[0;31m#Make Recommendations based on user_id\u001b[0m\u001b[0;34m\u001b[0m\u001b[0;34m\u001b[0m\u001b[0m\n",
      "\u001b[0;32m/home/vagrant/miniconda/lib/python2.7/site-packages/graphlab/toolkits/recommender/item_similarity_recommender.pyc\u001b[0m in \u001b[0;36mcreate\u001b[0;34m(observation_data, user_id, item_id, target, user_data, item_data, nearest_items, similarity_type, threshold, only_top_k, verbose, target_memory_usage, **kwargs)\u001b[0m\n\u001b[1;32m    251\u001b[0m     \u001b[0mopts\u001b[0m\u001b[0;34m.\u001b[0m\u001b[0mupdate\u001b[0m\u001b[0;34m(\u001b[0m\u001b[0mkwargs\u001b[0m\u001b[0;34m)\u001b[0m\u001b[0;34m\u001b[0m\u001b[0m\n\u001b[1;32m    252\u001b[0m \u001b[0;34m\u001b[0m\u001b[0m\n\u001b[0;32m--> 253\u001b[0;31m     \u001b[0mresponse\u001b[0m \u001b[0;34m=\u001b[0m \u001b[0m_graphlab\u001b[0m\u001b[0;34m.\u001b[0m\u001b[0mtoolkits\u001b[0m\u001b[0;34m.\u001b[0m\u001b[0m_main\u001b[0m\u001b[0;34m.\u001b[0m\u001b[0mrun\u001b[0m\u001b[0;34m(\u001b[0m\u001b[0;34m'recsys_train'\u001b[0m\u001b[0;34m,\u001b[0m \u001b[0mopts\u001b[0m\u001b[0;34m,\u001b[0m \u001b[0mverbose\u001b[0m\u001b[0;34m)\u001b[0m\u001b[0;34m\u001b[0m\u001b[0m\n\u001b[0m\u001b[1;32m    254\u001b[0m     \u001b[0;32mreturn\u001b[0m \u001b[0mItemSimilarityRecommender\u001b[0m\u001b[0;34m(\u001b[0m\u001b[0mresponse\u001b[0m\u001b[0;34m[\u001b[0m\u001b[0;34m'model'\u001b[0m\u001b[0;34m]\u001b[0m\u001b[0;34m)\u001b[0m\u001b[0;34m\u001b[0m\u001b[0m\n\u001b[1;32m    255\u001b[0m \u001b[0;34m\u001b[0m\u001b[0m\n",
      "\u001b[0;32m/home/vagrant/miniconda/lib/python2.7/site-packages/graphlab/toolkits/_main.pyc\u001b[0m in \u001b[0;36mrun\u001b[0;34m(toolkit_name, options, verbose, show_progress)\u001b[0m\n\u001b[1;32m     87\u001b[0m         \u001b[0m_get_metric_tracker\u001b[0m\u001b[0;34m(\u001b[0m\u001b[0;34m)\u001b[0m\u001b[0;34m.\u001b[0m\u001b[0mtrack\u001b[0m\u001b[0;34m(\u001b[0m\u001b[0mmetric_name\u001b[0m\u001b[0;34m,\u001b[0m \u001b[0mvalue\u001b[0m\u001b[0;34m=\u001b[0m\u001b[0;36m1\u001b[0m\u001b[0;34m,\u001b[0m \u001b[0mproperties\u001b[0m\u001b[0;34m=\u001b[0m\u001b[0mtrack_props\u001b[0m\u001b[0;34m,\u001b[0m \u001b[0msend_sys_info\u001b[0m\u001b[0;34m=\u001b[0m\u001b[0mFalse\u001b[0m\u001b[0;34m)\u001b[0m\u001b[0;34m\u001b[0m\u001b[0m\n\u001b[1;32m     88\u001b[0m \u001b[0;34m\u001b[0m\u001b[0m\n\u001b[0;32m---> 89\u001b[0;31m         \u001b[0;32mraise\u001b[0m \u001b[0mToolkitError\u001b[0m\u001b[0;34m(\u001b[0m\u001b[0mstr\u001b[0m\u001b[0;34m(\u001b[0m\u001b[0mmessage\u001b[0m\u001b[0;34m)\u001b[0m\u001b[0;34m)\u001b[0m\u001b[0;34m\u001b[0m\u001b[0m\n\u001b[0m",
      "\u001b[0;31mToolkitError\u001b[0m: Cancelled by user."
     ]
    }
   ],
   "source": [
    "my_seed = 1\n",
    "random.seed(my_seed)\n",
    "\n",
    "ratings_train = pd.read_csv(TRAIN_SET_PATH, sep=',', encoding='utf-8', dtype={'user_id': str, 'bus_id': str, 'rating': float})\n",
    "ratings_test = pd.read_csv(TEST_SET_PATH, sep=',', encoding='utf-8', dtype={'user_id': str, 'bus_id': str, 'rating': float})\n",
    "train_data = graphlab.SFrame(ratings_train)\n",
    "test_data = graphlab.SFrame(ratings_test)\n",
    "\n",
    "#Train model\n",
    "item_based_model = graphlab.load_model('../output/item_based_model')\n",
    "\n",
    "#Make Recommendations based on user_id\n",
    "item_based_recomm = item_based_model.recommend(users=['CxDOIDnH8gp9KXzpBHJYXw'],k=25)\n",
    "item_based_recomm.print_rows()"
   ]
  },
  {
   "cell_type": "code",
   "execution_count": null,
   "metadata": {
    "collapsed": false
   },
   "outputs": [],
   "source": [
    "#Evaluate model\n",
    "train_eval = item_based_model.evaluate(dataset=train_data, metric='precision_recall',exclude_known_for_precision_recall=False)\n",
    "test_eval = item_based_model.evaluate(dataset=test_data, metric='precision_recall',exclude_known_for_precision_recall=True)\n",
    "\n",
    "train_eval.print_rows(num_rows=25)\n",
    "test_eval.print_rows(num_rows=25)"
   ]
  }
 ],
 "metadata": {
  "kernelspec": {
   "display_name": "Python 2",
   "language": "python",
   "name": "python2"
  },
  "language_info": {
   "codemirror_mode": {
    "name": "ipython",
    "version": 2
   },
   "file_extension": ".py",
   "mimetype": "text/x-python",
   "name": "python",
   "nbconvert_exporter": "python",
   "pygments_lexer": "ipython2",
   "version": "2.7.12"
  }
 },
 "nbformat": 4,
 "nbformat_minor": 0
}
